{
  "nbformat": 4,
  "nbformat_minor": 0,
  "metadata": {
    "colab": {
      "provenance": []
    },
    "kernelspec": {
      "name": "python3",
      "display_name": "Python 3"
    },
    "language_info": {
      "name": "python"
    }
  },
  "cells": [
    {
      "cell_type": "code",
      "source": [
        "import numpy as np # linear algebra\n",
        "import pandas as pd # data processing, CSV file I/O (e.g. pd.read_csv)\n",
        "\n",
        "# Import TensorFlow\n",
        "import tensorflow as tf\n",
        "\n",
        "# Import Numpy and Matplotlib\n",
        "import numpy as np\n",
        "import matplotlib.pyplot as plt\n",
        "\n",
        "from keras.preprocessing.image import ImageDataGenerator\n",
        "\n",
        "# Input data files are available in the read-only \"../input/\" directory\n",
        "# For example, running this (by clicking run or pressing Shift+Enter) will list all files under the input directory\n",
        "\n",
        "import os\n",
        "for dirname, _, filenames in os.walk('/kaggle/input'):\n",
        "    for filename in filenames:\n",
        "        print(os.path.join(dirname, filename))\n",
        "\n",
        "# You can write up to 20GB to the current directory (/kaggle/working/) that gets preserved as output when you create a version using \"Save & Run All\" \n",
        "# You can also write temporary files to /kaggle/temp/, but they won't be saved outside of the current session"
      ],
      "metadata": {
        "id": "68Dvb2Tk2VpV"
      },
      "execution_count": null,
      "outputs": []
    },
    {
      "cell_type": "code",
      "source": [
        "import ssl\n",
        "ssl._create_default_https_context = ssl._create_unverified_context\n",
        "# Importing the CIFAR-10 dataset from Keras \n",
        "from tensorflow.keras.datasets import cifar10\n",
        "(X_train, y_train), (X_test, y_test) = cifar10.load_data()"
      ],
      "metadata": {
        "id": "g9jN2A_X2Vsl"
      },
      "execution_count": null,
      "outputs": []
    },
    {
      "cell_type": "code",
      "source": [
        "print(f\"X Train Size: {len(X_train)}\\n X Test Size: {len(X_test)}\" )"
      ],
      "metadata": {
        "colab": {
          "base_uri": "https://localhost:8080/"
        },
        "id": "mK569oxb2Vu9",
        "outputId": "1d467e8f-5c1a-4e98-8e76-272f8aa5dd92"
      },
      "execution_count": null,
      "outputs": [
        {
          "output_type": "stream",
          "name": "stdout",
          "text": [
            "X Train Size: 50000\n",
            " X Test Size: 10000\n"
          ]
        }
      ]
    },
    {
      "cell_type": "code",
      "source": [
        "# Print a sample from X_test dataset\n",
        "print(X_test[42]) #Pixel Values"
      ],
      "metadata": {
        "colab": {
          "base_uri": "https://localhost:8080/"
        },
        "id": "GHJbtOL12Vxf",
        "outputId": "188191f8-e76e-47b0-de54-0b4ff4a01041"
      },
      "execution_count": null,
      "outputs": [
        {
          "output_type": "stream",
          "name": "stdout",
          "text": [
            "[[[149 149 150]\n",
            "  [149 149 146]\n",
            "  [140 140 139]\n",
            "  ...\n",
            "  [175 147 171]\n",
            "  [165 149 164]\n",
            "  [167 160 173]]\n",
            "\n",
            " [[147 147 147]\n",
            "  [150 150 147]\n",
            "  [140 140 140]\n",
            "  ...\n",
            "  [192 150 176]\n",
            "  [183 146 166]\n",
            "  [163 149 158]]\n",
            "\n",
            " [[149 149 149]\n",
            "  [154 154 151]\n",
            "  [142 142 142]\n",
            "  ...\n",
            "  [193 138 162]\n",
            "  [200 149 170]\n",
            "  [193 168 178]]\n",
            "\n",
            " ...\n",
            "\n",
            " [[117 125 136]\n",
            "  [ 87  91 108]\n",
            "  [ 65  61  74]\n",
            "  ...\n",
            "  [ 50  21  33]\n",
            "  [ 19  16  19]\n",
            "  [ 16  19  21]]\n",
            "\n",
            " [[125 136 144]\n",
            "  [110 116 133]\n",
            "  [ 69  67  83]\n",
            "  ...\n",
            "  [ 58  24  38]\n",
            "  [ 18  16  19]\n",
            "  [ 16  19  20]]\n",
            "\n",
            " [[152 166 172]\n",
            "  [120 128 145]\n",
            "  [ 69  69  87]\n",
            "  ...\n",
            "  [ 68  37  50]\n",
            "  [ 15  16  18]\n",
            "  [ 15  19  20]]]\n"
          ]
        }
      ]
    },
    {
      "cell_type": "code",
      "source": [
        "# Use the .imshow() function and show the plot\n",
        "plt.imshow(X_test[42])\n",
        "plt.show()\n",
        "# Print the shape of the sample image\n",
        "X_test[42].shape # RGB images have 3 channels "
      ],
      "metadata": {
        "colab": {
          "base_uri": "https://localhost:8080/",
          "height": 284
        },
        "id": "T1cLwF9u2V0E",
        "outputId": "e3894b4c-4596-4b32-b4c6-66efe28dd923"
      },
      "execution_count": null,
      "outputs": [
        {
          "output_type": "display_data",
          "data": {
            "text/plain": [
              "<Figure size 432x288 with 1 Axes>"
            ],
            "image/png": "[encoded data removed]"
          },
          "metadata": {
            "needs_background": "light"
          }
        },
        {
          "output_type": "execute_result",
          "data": {
            "text/plain": [
              "(32, 32, 3)"
            ]
          },
          "metadata": {},
          "execution_count": 37
        }
      ]
    },
    {
      "cell_type": "code",
      "source": [
        "# Create the validation datasets \n",
        "# and assign the last 10000 images of X_train and y_train\n",
        "X_val = X_train[40000:]\n",
        "y_val = y_train[40000:]\n",
        "# Create new train datasets\n",
        "# and assign the first 40000 images of X_train and y_train\n",
        "X_train = X_train[:40000]\n",
        "y_train = y_train[:40000]"
      ],
      "metadata": {
        "id": "sbNMM3sL2V2x"
      },
      "execution_count": null,
      "outputs": []
    },
    {
      "cell_type": "code",
      "source": [
        "# Print the lengths of the each dataset\n",
        "print(\"X Train Length:\", len(X_train))\n",
        "print(\"X Test Length:\", len(X_test))\n",
        "print(\"X Val Length:\", len(X_val))\n",
        "print(\"Y Train Length:\", len(y_train))\n",
        "print(\"Y Test Length:\", len(y_test))\n",
        "print(\"Y Val Length:\", len(y_val))"
      ],
      "metadata": {
        "colab": {
          "base_uri": "https://localhost:8080/"
        },
        "id": "HV4TvCGK2V5e",
        "outputId": "11ea3a7d-405e-4b4f-895b-c9bbdaf93b40"
      },
      "execution_count": null,
      "outputs": [
        {
          "output_type": "stream",
          "name": "stdout",
          "text": [
            "X Train Length: 40000\n",
            "X Test Length: 10000\n",
            "X Val Length: 10000\n",
            "Y Train Length: 40000\n",
            "Y Test Length: 10000\n",
            "Y Val Length: 10000\n"
          ]
        }
      ]
    },
    {
      "cell_type": "code",
      "source": [
        "# Divide each dataset by 255\n",
        "X_train = X_train / 255\n",
        "X_test = X_test / 255\n",
        "X_val = X_val / 255"
      ],
      "metadata": {
        "id": "AWq_KnmS2V75"
      },
      "execution_count": null,
      "outputs": []
    },
    {
      "cell_type": "code",
      "source": [
        " #Create a model object\n",
        "model = tf.keras.Sequential()"
      ],
      "metadata": {
        "id": "LIYsMh6H2V-8"
      },
      "execution_count": null,
      "outputs": []
    },
    {
      "cell_type": "code",
      "source": [
        "model.add(tf.keras.layers.Conv2D(64,\n",
        "                                 kernel_size=(3,3),\n",
        "                                 strides=(1,1),\n",
        "                                 padding=\"same\",\n",
        "                                 activation=\"relu\",\n",
        "                                 input_shape=(32,32,3)))\n",
        "model.add(tf.keras.layers.BatchNormalization())\n",
        "\n",
        "model.add(tf.keras.layers.Conv2D(64,\n",
        "                                 kernel_size=(3,3),\n",
        "                                 strides=(1,1),\n",
        "                                 padding=\"same\",\n",
        "                                 activation=\"relu\"))\n",
        "model.add(tf.keras.layers.BatchNormalization())\n",
        "\n",
        "model.add(tf.keras.layers.Conv2D(64,\n",
        "                                 kernel_size=(3,3),\n",
        "                                 strides=(1,1),\n",
        "                                 padding=\"same\",\n",
        "                                 activation=\"relu\"))\n",
        "model.add(tf.keras.layers.BatchNormalization())\n",
        "\n",
        "model.add(tf.keras.layers.MaxPooling2D((2,2)))\n",
        "model.add( tf.keras.layers.Dropout(0.20))\n",
        "\n",
        "model.add(tf.keras.layers.Conv2D(128,\n",
        "                                 kernel_size=(3,3),\n",
        "                                 strides=(1,1),\n",
        "                                 padding=\"same\",\n",
        "                                 activation=\"relu\"))\n",
        "model.add(tf.keras.layers.BatchNormalization())\n",
        "\n",
        "model.add(tf.keras.layers.Conv2D(128,\n",
        "                                 kernel_size=(3,3),\n",
        "                                 strides=(1,1),\n",
        "                                 padding=\"same\",\n",
        "                                 activation=\"relu\"))\n",
        "model.add(tf.keras.layers.BatchNormalization())\n",
        "\n",
        "model.add(tf.keras.layers.Conv2D(128,\n",
        "                                 kernel_size=(3,3),\n",
        "                                 strides=(1,1),\n",
        "                                 padding=\"same\",\n",
        "                                 activation=\"relu\"))\n",
        "model.add(tf.keras.layers.BatchNormalization())\n",
        "\n",
        "model.add( tf.keras.layers.Dropout(0.25))\n",
        "model.add(tf.keras.layers.MaxPooling2D((2,2)))\n",
        "\n",
        "model.add(tf.keras.layers.Conv2D(256,\n",
        "                                 kernel_size=(3,3),\n",
        "                                 strides=(1,1),\n",
        "                                 padding=\"same\",\n",
        "                                 activation=\"relu\"))\n",
        "model.add(tf.keras.layers.BatchNormalization())\n",
        "\n",
        "model.add(tf.keras.layers.Conv2D(256,\n",
        "                                 kernel_size=(3,3),\n",
        "                                 strides=(1,1),\n",
        "                                 padding=\"same\",\n",
        "                                 activation=\"relu\"))\n",
        "model.add(tf.keras.layers.BatchNormalization())\n",
        "\n",
        "model.add(tf.keras.layers.Conv2D(256,\n",
        "                                 kernel_size=(3,3),\n",
        "                                 strides=(1,1),\n",
        "                                 padding=\"same\",\n",
        "                                 activation=\"relu\"))\n",
        "model.add(tf.keras.layers.BatchNormalization())\n",
        "\n",
        "\n",
        "model.add(tf.keras.layers.MaxPooling2D((2,2)))\n",
        "model.add( tf.keras.layers.Dropout(0.35))"
      ],
      "metadata": {
        "id": "ZtS1ddQI2WD-"
      },
      "execution_count": null,
      "outputs": []
    },
    {
      "cell_type": "code",
      "source": [
        "# Add the dense layer and dropout layer\n",
        "model.add(tf.keras.layers.Flatten())\n",
        "model.add(tf.keras.layers.Dense(512, activation=\"relu\"))\n",
        "model.add(tf.keras.layers.BatchNormalization())\n",
        "model.add( tf.keras.layers.Dropout(0.5))\n",
        "\n",
        "model.add(tf.keras.layers.Flatten())\n",
        "model.add(tf.keras.layers.Dense(1028, activation=\"relu\"))\n",
        "model.add(tf.keras.layers.BatchNormalization())\n",
        "model.add( tf.keras.layers.Dropout(0.5))"
      ],
      "metadata": {
        "id": "TiMamd0-2WHK"
      },
      "execution_count": null,
      "outputs": []
    },
    {
      "cell_type": "code",
      "source": [
        "# Add the output layer\n",
        "model.add(tf.keras.layers.Dense(10, activation=\"softmax\"))"
      ],
      "metadata": {
        "id": "nRdb2_uc2WKL"
      },
      "execution_count": null,
      "outputs": []
    },
    {
      "cell_type": "code",
      "source": [
        "# Compile the model\n",
        "model.compile(optimizer=\"adam\",\n",
        "              loss=\"sparse_categorical_crossentropy\",\n",
        "              metrics=[\"accuracy\"])"
      ],
      "metadata": {
        "id": "ln1i3hok2WM5"
      },
      "execution_count": null,
      "outputs": []
    },
    {
      "cell_type": "code",
      "source": [
        "# Train the model for 50 epochs \n",
        "results = model.fit(X_train, y_train, epochs=50,\n",
        "                    validation_data=(X_val, y_val))"
      ],
      "metadata": {
        "colab": {
          "base_uri": "https://localhost:8080/"
        },
        "id": "nrmf1LQv33iI",
        "outputId": "ca619d3c-ff51-4748-ed8f-c818970be8d9"
      },
      "execution_count": null,
      "outputs": [
        {
          "output_type": "stream",
          "name": "stdout",
          "text": [
            "Epoch 1/50\n",
            "1237/1250 [============================>.] - ETA: 17s - loss: 1.3682 - accuracy: 0.5237"
          ]
        }
      ]
    },
    {
      "cell_type": "code",
      "source": [
        "# Plot the the training loss\n",
        "plt.plot(results.history[\"loss\"], label=\"loss\")\n",
        "\n",
        "# Plot the the validation loss\n",
        "plt.plot(results.history[\"val_loss\"], label=\"val_loss\")\n",
        "\n",
        "# Name the x and y axises\n",
        "plt.xlabel(\"epochs\")\n",
        "plt.ylabel(\"Loss\")\n",
        "# Put legend table\n",
        "plt.legend()\n",
        "plt.grid()\n",
        "# Show the plot\n",
        "plt.show()"
      ],
      "metadata": {
        "id": "inTYMbkl33kn"
      },
      "execution_count": null,
      "outputs": []
    },
    {
      "cell_type": "code",
      "source": [
        "# Plot the the training accuracy\n",
        "plt.plot(results.history[\"accuracy\"], label=\"accuracy\")\n",
        "\n",
        "# Plot the the validation accuracy\n",
        "plt.plot(results.history[\"val_accuracy\"], label=\"val_accuracy\")\n",
        "\n",
        "# Name the x and y axises\n",
        "plt.xlabel(\"epochs\")\n",
        "plt.ylabel(\"Accuracy\")\n",
        "# Put legend table\n",
        "plt.legend()\n",
        "plt.grid()\n",
        "# Show the plot\n",
        "plt.show()"
      ],
      "metadata": {
        "id": "3ZpsHos933nf"
      },
      "execution_count": null,
      "outputs": []
    },
    {
      "cell_type": "code",
      "source": [
        "# Evaluate the performance\n",
        "model.evaluate(X_test, y_test)"
      ],
      "metadata": {
        "id": "ImgH-VGs3_4B"
      },
      "execution_count": null,
      "outputs": []
    },
    {
      "cell_type": "code",
      "source": [
        "# Make prediction on the reshaped sample\n",
        "predict_result = model.predict(X_test[42].reshape(1,32,32,3))\n",
        "# Print the prediction result\n",
        "print(predict_result)\n",
        "# Find the predicted class\n",
        "predict_class = predict_result.argmax()\n",
        "# Find the prediction probability\n",
        "predict_prob = predict_result.max()"
      ],
      "metadata": {
        "id": "JP7wmwVw4EMm"
      },
      "execution_count": null,
      "outputs": []
    },
    {
      "cell_type": "code",
      "source": [
        "# Print the results\n",
        "print(f\"Image belongs to class: {predict_class}\\n Prob is: {predict_prob}\")"
      ],
      "metadata": {
        "id": "WNfHABer4FGA"
      },
      "execution_count": null,
      "outputs": []
    },
    {
      "cell_type": "code",
      "source": [
        "from sklearn.metrics import confusion_matrix\n",
        "import seaborn as sns\n",
        "class_names = [\"airplane\", \"automobile\", \"bird\", \"cat\", \"deer\", \"dog\", \"frog\", \"horse\", \"ship\", \"truck\"]\n",
        "\n",
        "y_preds = model.predict(X_test)\n",
        "y_pred=y_preds.argmax(axis=1)\n",
        "cm=confusion_matrix(y_test,y_pred)\n",
        "cm_df=pd.DataFrame(cm,index=class_names,\n",
        "       columns=class_names)\n",
        "plt.figure(figsize=(20,10))\n",
        "sns.heatmap(cm_df, annot=True,cmap='BuPu')\n",
        "plt.title('Confusion Matrix')\n",
        "plt.ylabel('Actal Values')\n",
        "plt.xlabel('Predicted Values')\n",
        "plt.show()\n"
      ],
      "metadata": {
        "id": "VW2P8YFd4JJy"
      },
      "execution_count": null,
      "outputs": []
    }
  ]
}